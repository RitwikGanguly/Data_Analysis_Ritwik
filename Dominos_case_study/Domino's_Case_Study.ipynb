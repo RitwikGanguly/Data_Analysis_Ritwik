{
 "cells": [
  {
   "cell_type": "markdown",
   "id": "e7d93d2c",
   "metadata": {},
   "source": [
    "## Diminos Store - Delivery Time"
   ]
  },
  {
   "cell_type": "markdown",
   "id": "83fed103",
   "metadata": {},
   "source": [
    "#### Recently Diminos gave a notice to Kanav that they will be measuring their stores' performance by looking at the metric - which is 95th Percentile on Order Delivery time should be less than 31 mins.\n"
   ]
  },
  {
   "cell_type": "markdown",
   "id": "47272ee1",
   "metadata": {},
   "source": [
    "> Documentation link - https://docs.google.com/document/d/1nouEKYjtXnHmoEaSsdRwLUhl9HHeBYnDz_l2L52vuyY/edit"
   ]
  },
  {
   "cell_type": "code",
   "execution_count": 1,
   "id": "4f1cc980",
   "metadata": {},
   "outputs": [],
   "source": [
    "import pandas as pd\n",
    "import numpy as np\n",
    "import os"
   ]
  },
  {
   "cell_type": "code",
   "execution_count": 2,
   "id": "cb756a64",
   "metadata": {},
   "outputs": [],
   "source": [
    "os.chdir(r\"C:\\Users\\RITWIK GANGULY\\Downloads\\Innomatics Research Lab\")"
   ]
  },
  {
   "cell_type": "code",
   "execution_count": 3,
   "id": "92056ae8",
   "metadata": {},
   "outputs": [],
   "source": [
    "df = pd.read_csv(\"diminos_data.csv\")"
   ]
  },
  {
   "cell_type": "code",
   "execution_count": 4,
   "id": "744e9601",
   "metadata": {},
   "outputs": [
    {
     "data": {
      "text/html": [
       "<div>\n",
       "<style scoped>\n",
       "    .dataframe tbody tr th:only-of-type {\n",
       "        vertical-align: middle;\n",
       "    }\n",
       "\n",
       "    .dataframe tbody tr th {\n",
       "        vertical-align: top;\n",
       "    }\n",
       "\n",
       "    .dataframe thead th {\n",
       "        text-align: right;\n",
       "    }\n",
       "</style>\n",
       "<table border=\"1\" class=\"dataframe\">\n",
       "  <thead>\n",
       "    <tr style=\"text-align: right;\">\n",
       "      <th></th>\n",
       "      <th>order_id</th>\n",
       "      <th>order_placed_at</th>\n",
       "      <th>order_delivered_at</th>\n",
       "    </tr>\n",
       "  </thead>\n",
       "  <tbody>\n",
       "    <tr>\n",
       "      <th>0</th>\n",
       "      <td>1523111</td>\n",
       "      <td>2023-03-01 00:00:59</td>\n",
       "      <td>2023-03-01 00:18:07.443132</td>\n",
       "    </tr>\n",
       "    <tr>\n",
       "      <th>1</th>\n",
       "      <td>1523112</td>\n",
       "      <td>2023-03-01 00:03:59</td>\n",
       "      <td>2023-03-01 00:19:34.925241</td>\n",
       "    </tr>\n",
       "    <tr>\n",
       "      <th>2</th>\n",
       "      <td>1523113</td>\n",
       "      <td>2023-03-01 00:07:22</td>\n",
       "      <td>2023-03-01 00:22:28.291385</td>\n",
       "    </tr>\n",
       "    <tr>\n",
       "      <th>3</th>\n",
       "      <td>1523114</td>\n",
       "      <td>2023-03-01 00:07:47</td>\n",
       "      <td>2023-03-01 00:46:19.019399</td>\n",
       "    </tr>\n",
       "    <tr>\n",
       "      <th>4</th>\n",
       "      <td>1523115</td>\n",
       "      <td>2023-03-01 00:09:03</td>\n",
       "      <td>2023-03-01 00:25:13.619056</td>\n",
       "    </tr>\n",
       "    <tr>\n",
       "      <th>...</th>\n",
       "      <td>...</td>\n",
       "      <td>...</td>\n",
       "      <td>...</td>\n",
       "    </tr>\n",
       "    <tr>\n",
       "      <th>14995</th>\n",
       "      <td>1538106</td>\n",
       "      <td>2023-03-27 23:37:05</td>\n",
       "      <td>2023-03-27 23:52:37.409378</td>\n",
       "    </tr>\n",
       "    <tr>\n",
       "      <th>14996</th>\n",
       "      <td>1538107</td>\n",
       "      <td>2023-03-27 23:47:38</td>\n",
       "      <td>2023-03-28 00:04:22.672912</td>\n",
       "    </tr>\n",
       "    <tr>\n",
       "      <th>14997</th>\n",
       "      <td>1538108</td>\n",
       "      <td>2023-03-27 23:50:16</td>\n",
       "      <td>2023-03-28 00:05:40.676238</td>\n",
       "    </tr>\n",
       "    <tr>\n",
       "      <th>14998</th>\n",
       "      <td>1538109</td>\n",
       "      <td>2023-03-27 23:52:44</td>\n",
       "      <td>2023-03-28 00:08:41.810358</td>\n",
       "    </tr>\n",
       "    <tr>\n",
       "      <th>14999</th>\n",
       "      <td>1538110</td>\n",
       "      <td>2023-03-27 23:58:20</td>\n",
       "      <td>2023-03-28 00:13:42.499311</td>\n",
       "    </tr>\n",
       "  </tbody>\n",
       "</table>\n",
       "<p>15000 rows × 3 columns</p>\n",
       "</div>"
      ],
      "text/plain": [
       "       order_id      order_placed_at          order_delivered_at\n",
       "0       1523111  2023-03-01 00:00:59  2023-03-01 00:18:07.443132\n",
       "1       1523112  2023-03-01 00:03:59  2023-03-01 00:19:34.925241\n",
       "2       1523113  2023-03-01 00:07:22  2023-03-01 00:22:28.291385\n",
       "3       1523114  2023-03-01 00:07:47  2023-03-01 00:46:19.019399\n",
       "4       1523115  2023-03-01 00:09:03  2023-03-01 00:25:13.619056\n",
       "...         ...                  ...                         ...\n",
       "14995   1538106  2023-03-27 23:37:05  2023-03-27 23:52:37.409378\n",
       "14996   1538107  2023-03-27 23:47:38  2023-03-28 00:04:22.672912\n",
       "14997   1538108  2023-03-27 23:50:16  2023-03-28 00:05:40.676238\n",
       "14998   1538109  2023-03-27 23:52:44  2023-03-28 00:08:41.810358\n",
       "14999   1538110  2023-03-27 23:58:20  2023-03-28 00:13:42.499311\n",
       "\n",
       "[15000 rows x 3 columns]"
      ]
     },
     "execution_count": 4,
     "metadata": {},
     "output_type": "execute_result"
    }
   ],
   "source": [
    "df"
   ]
  },
  {
   "cell_type": "code",
   "execution_count": 7,
   "id": "77345820",
   "metadata": {},
   "outputs": [
    {
     "name": "stdout",
     "output_type": "stream",
     "text": [
      "<class 'pandas.core.frame.DataFrame'>\n",
      "RangeIndex: 15000 entries, 0 to 14999\n",
      "Data columns (total 3 columns):\n",
      " #   Column              Non-Null Count  Dtype \n",
      "---  ------              --------------  ----- \n",
      " 0   order_id            15000 non-null  int64 \n",
      " 1   order_placed_at     15000 non-null  object\n",
      " 2   order_delivered_at  15000 non-null  object\n",
      "dtypes: int64(1), object(2)\n",
      "memory usage: 351.7+ KB\n"
     ]
    }
   ],
   "source": [
    "df.info()"
   ]
  },
  {
   "cell_type": "code",
   "execution_count": 11,
   "id": "8dd5301f",
   "metadata": {},
   "outputs": [
    {
     "data": {
      "text/html": [
       "<div>\n",
       "<style scoped>\n",
       "    .dataframe tbody tr th:only-of-type {\n",
       "        vertical-align: middle;\n",
       "    }\n",
       "\n",
       "    .dataframe tbody tr th {\n",
       "        vertical-align: top;\n",
       "    }\n",
       "\n",
       "    .dataframe thead th {\n",
       "        text-align: right;\n",
       "    }\n",
       "</style>\n",
       "<table border=\"1\" class=\"dataframe\">\n",
       "  <thead>\n",
       "    <tr style=\"text-align: right;\">\n",
       "      <th></th>\n",
       "      <th>order_id</th>\n",
       "      <th>order_placed_at</th>\n",
       "      <th>order_delivered_at</th>\n",
       "    </tr>\n",
       "  </thead>\n",
       "  <tbody>\n",
       "    <tr>\n",
       "      <th>count</th>\n",
       "      <td>1.500000e+04</td>\n",
       "      <td>15000</td>\n",
       "      <td>15000</td>\n",
       "    </tr>\n",
       "    <tr>\n",
       "      <th>unique</th>\n",
       "      <td>NaN</td>\n",
       "      <td>14953</td>\n",
       "      <td>15000</td>\n",
       "    </tr>\n",
       "    <tr>\n",
       "      <th>top</th>\n",
       "      <td>NaN</td>\n",
       "      <td>2023-03-27 10:46:29</td>\n",
       "      <td>2023-03-01 00:18:07.443132</td>\n",
       "    </tr>\n",
       "    <tr>\n",
       "      <th>freq</th>\n",
       "      <td>NaN</td>\n",
       "      <td>2</td>\n",
       "      <td>1</td>\n",
       "    </tr>\n",
       "    <tr>\n",
       "      <th>mean</th>\n",
       "      <td>1.530610e+06</td>\n",
       "      <td>NaN</td>\n",
       "      <td>NaN</td>\n",
       "    </tr>\n",
       "    <tr>\n",
       "      <th>std</th>\n",
       "      <td>4.330271e+03</td>\n",
       "      <td>NaN</td>\n",
       "      <td>NaN</td>\n",
       "    </tr>\n",
       "    <tr>\n",
       "      <th>min</th>\n",
       "      <td>1.523111e+06</td>\n",
       "      <td>NaN</td>\n",
       "      <td>NaN</td>\n",
       "    </tr>\n",
       "    <tr>\n",
       "      <th>25%</th>\n",
       "      <td>1.526861e+06</td>\n",
       "      <td>NaN</td>\n",
       "      <td>NaN</td>\n",
       "    </tr>\n",
       "    <tr>\n",
       "      <th>50%</th>\n",
       "      <td>1.530610e+06</td>\n",
       "      <td>NaN</td>\n",
       "      <td>NaN</td>\n",
       "    </tr>\n",
       "    <tr>\n",
       "      <th>75%</th>\n",
       "      <td>1.534360e+06</td>\n",
       "      <td>NaN</td>\n",
       "      <td>NaN</td>\n",
       "    </tr>\n",
       "    <tr>\n",
       "      <th>max</th>\n",
       "      <td>1.538110e+06</td>\n",
       "      <td>NaN</td>\n",
       "      <td>NaN</td>\n",
       "    </tr>\n",
       "  </tbody>\n",
       "</table>\n",
       "</div>"
      ],
      "text/plain": [
       "            order_id      order_placed_at          order_delivered_at\n",
       "count   1.500000e+04                15000                       15000\n",
       "unique           NaN                14953                       15000\n",
       "top              NaN  2023-03-27 10:46:29  2023-03-01 00:18:07.443132\n",
       "freq             NaN                    2                           1\n",
       "mean    1.530610e+06                  NaN                         NaN\n",
       "std     4.330271e+03                  NaN                         NaN\n",
       "min     1.523111e+06                  NaN                         NaN\n",
       "25%     1.526861e+06                  NaN                         NaN\n",
       "50%     1.530610e+06                  NaN                         NaN\n",
       "75%     1.534360e+06                  NaN                         NaN\n",
       "max     1.538110e+06                  NaN                         NaN"
      ]
     },
     "execution_count": 11,
     "metadata": {},
     "output_type": "execute_result"
    }
   ],
   "source": [
    "df.describe(include=\"all\")"
   ]
  },
  {
   "cell_type": "code",
   "execution_count": 14,
   "id": "3e28b242",
   "metadata": {},
   "outputs": [],
   "source": [
    "# change object to datetime format\n",
    "df[\"order_placed_at\"] = pd.to_datetime(df[\"order_placed_at\"])\n",
    "df[\"order_delivered_at\"] = pd.to_datetime(df[\"order_delivered_at\"])"
   ]
  },
  {
   "cell_type": "code",
   "execution_count": 15,
   "id": "ad7662c9",
   "metadata": {},
   "outputs": [
    {
     "name": "stdout",
     "output_type": "stream",
     "text": [
      "<class 'pandas.core.frame.DataFrame'>\n",
      "RangeIndex: 15000 entries, 0 to 14999\n",
      "Data columns (total 3 columns):\n",
      " #   Column              Non-Null Count  Dtype         \n",
      "---  ------              --------------  -----         \n",
      " 0   order_id            15000 non-null  int64         \n",
      " 1   order_placed_at     15000 non-null  datetime64[ns]\n",
      " 2   order_delivered_at  15000 non-null  datetime64[ns]\n",
      "dtypes: datetime64[ns](2), int64(1)\n",
      "memory usage: 351.7 KB\n"
     ]
    }
   ],
   "source": [
    "df.info()"
   ]
  },
  {
   "cell_type": "code",
   "execution_count": 17,
   "id": "40570e7d",
   "metadata": {},
   "outputs": [
    {
     "data": {
      "text/html": [
       "<div>\n",
       "<style scoped>\n",
       "    .dataframe tbody tr th:only-of-type {\n",
       "        vertical-align: middle;\n",
       "    }\n",
       "\n",
       "    .dataframe tbody tr th {\n",
       "        vertical-align: top;\n",
       "    }\n",
       "\n",
       "    .dataframe thead th {\n",
       "        text-align: right;\n",
       "    }\n",
       "</style>\n",
       "<table border=\"1\" class=\"dataframe\">\n",
       "  <thead>\n",
       "    <tr style=\"text-align: right;\">\n",
       "      <th></th>\n",
       "      <th>order_id</th>\n",
       "      <th>order_placed_at</th>\n",
       "      <th>order_delivered_at</th>\n",
       "    </tr>\n",
       "  </thead>\n",
       "  <tbody>\n",
       "    <tr>\n",
       "      <th>0</th>\n",
       "      <td>1523111</td>\n",
       "      <td>2023-03-01 00:00:59</td>\n",
       "      <td>2023-03-01 00:18:07.443132</td>\n",
       "    </tr>\n",
       "    <tr>\n",
       "      <th>1</th>\n",
       "      <td>1523112</td>\n",
       "      <td>2023-03-01 00:03:59</td>\n",
       "      <td>2023-03-01 00:19:34.925241</td>\n",
       "    </tr>\n",
       "    <tr>\n",
       "      <th>2</th>\n",
       "      <td>1523113</td>\n",
       "      <td>2023-03-01 00:07:22</td>\n",
       "      <td>2023-03-01 00:22:28.291385</td>\n",
       "    </tr>\n",
       "    <tr>\n",
       "      <th>3</th>\n",
       "      <td>1523114</td>\n",
       "      <td>2023-03-01 00:07:47</td>\n",
       "      <td>2023-03-01 00:46:19.019399</td>\n",
       "    </tr>\n",
       "    <tr>\n",
       "      <th>4</th>\n",
       "      <td>1523115</td>\n",
       "      <td>2023-03-01 00:09:03</td>\n",
       "      <td>2023-03-01 00:25:13.619056</td>\n",
       "    </tr>\n",
       "  </tbody>\n",
       "</table>\n",
       "</div>"
      ],
      "text/plain": [
       "   order_id     order_placed_at         order_delivered_at\n",
       "0   1523111 2023-03-01 00:00:59 2023-03-01 00:18:07.443132\n",
       "1   1523112 2023-03-01 00:03:59 2023-03-01 00:19:34.925241\n",
       "2   1523113 2023-03-01 00:07:22 2023-03-01 00:22:28.291385\n",
       "3   1523114 2023-03-01 00:07:47 2023-03-01 00:46:19.019399\n",
       "4   1523115 2023-03-01 00:09:03 2023-03-01 00:25:13.619056"
      ]
     },
     "execution_count": 17,
     "metadata": {},
     "output_type": "execute_result"
    }
   ],
   "source": [
    "df.head()"
   ]
  },
  {
   "cell_type": "code",
   "execution_count": 18,
   "id": "4c1b875d",
   "metadata": {},
   "outputs": [
    {
     "data": {
      "text/plain": [
       "0         1\n",
       "1         1\n",
       "2         1\n",
       "3         1\n",
       "4         1\n",
       "         ..\n",
       "14995    27\n",
       "14996    27\n",
       "14997    27\n",
       "14998    27\n",
       "14999    27\n",
       "Name: order_placed_at, Length: 15000, dtype: int64"
      ]
     },
     "execution_count": 18,
     "metadata": {},
     "output_type": "execute_result"
    }
   ],
   "source": [
    "# day of month\n",
    "df.order_placed_at.dt.day"
   ]
  },
  {
   "cell_type": "code",
   "execution_count": 19,
   "id": "4c020461",
   "metadata": {},
   "outputs": [
    {
     "data": {
      "text/plain": [
       "0        2023\n",
       "1        2023\n",
       "2        2023\n",
       "3        2023\n",
       "4        2023\n",
       "         ... \n",
       "14995    2023\n",
       "14996    2023\n",
       "14997    2023\n",
       "14998    2023\n",
       "14999    2023\n",
       "Name: order_placed_at, Length: 15000, dtype: int64"
      ]
     },
     "execution_count": 19,
     "metadata": {},
     "output_type": "execute_result"
    }
   ],
   "source": [
    "# day of year\n",
    "df.order_placed_at.dt.year"
   ]
  },
  {
   "cell_type": "code",
   "execution_count": 24,
   "id": "6c28d9a9",
   "metadata": {},
   "outputs": [
    {
     "data": {
      "text/plain": [
       "0        2\n",
       "1        2\n",
       "2        2\n",
       "3        2\n",
       "4        2\n",
       "        ..\n",
       "14995    0\n",
       "14996    0\n",
       "14997    0\n",
       "14998    0\n",
       "14999    0\n",
       "Name: order_placed_at, Length: 15000, dtype: int64"
      ]
     },
     "execution_count": 24,
     "metadata": {},
     "output_type": "execute_result"
    }
   ],
   "source": [
    "# day of week\n",
    "df.order_placed_at.dt.day_of_week #monday=0 and so on"
   ]
  },
  {
   "cell_type": "code",
   "execution_count": 25,
   "id": "a0b70c3a",
   "metadata": {},
   "outputs": [],
   "source": [
    "df[\"day_of_month\"] = df.order_placed_at.dt.day"
   ]
  },
  {
   "cell_type": "code",
   "execution_count": 28,
   "id": "95922b03",
   "metadata": {},
   "outputs": [],
   "source": [
    "df[\"day_of_week\"] = df.order_placed_at.dt.day_name()"
   ]
  },
  {
   "cell_type": "code",
   "execution_count": 29,
   "id": "c6074ba3",
   "metadata": {},
   "outputs": [
    {
     "data": {
      "text/html": [
       "<div>\n",
       "<style scoped>\n",
       "    .dataframe tbody tr th:only-of-type {\n",
       "        vertical-align: middle;\n",
       "    }\n",
       "\n",
       "    .dataframe tbody tr th {\n",
       "        vertical-align: top;\n",
       "    }\n",
       "\n",
       "    .dataframe thead th {\n",
       "        text-align: right;\n",
       "    }\n",
       "</style>\n",
       "<table border=\"1\" class=\"dataframe\">\n",
       "  <thead>\n",
       "    <tr style=\"text-align: right;\">\n",
       "      <th></th>\n",
       "      <th>order_id</th>\n",
       "      <th>order_placed_at</th>\n",
       "      <th>order_delivered_at</th>\n",
       "      <th>day_of_month</th>\n",
       "      <th>day_of_week</th>\n",
       "    </tr>\n",
       "  </thead>\n",
       "  <tbody>\n",
       "    <tr>\n",
       "      <th>0</th>\n",
       "      <td>1523111</td>\n",
       "      <td>2023-03-01 00:00:59</td>\n",
       "      <td>2023-03-01 00:18:07.443132</td>\n",
       "      <td>1</td>\n",
       "      <td>Wednesday</td>\n",
       "    </tr>\n",
       "    <tr>\n",
       "      <th>1</th>\n",
       "      <td>1523112</td>\n",
       "      <td>2023-03-01 00:03:59</td>\n",
       "      <td>2023-03-01 00:19:34.925241</td>\n",
       "      <td>1</td>\n",
       "      <td>Wednesday</td>\n",
       "    </tr>\n",
       "    <tr>\n",
       "      <th>2</th>\n",
       "      <td>1523113</td>\n",
       "      <td>2023-03-01 00:07:22</td>\n",
       "      <td>2023-03-01 00:22:28.291385</td>\n",
       "      <td>1</td>\n",
       "      <td>Wednesday</td>\n",
       "    </tr>\n",
       "    <tr>\n",
       "      <th>3</th>\n",
       "      <td>1523114</td>\n",
       "      <td>2023-03-01 00:07:47</td>\n",
       "      <td>2023-03-01 00:46:19.019399</td>\n",
       "      <td>1</td>\n",
       "      <td>Wednesday</td>\n",
       "    </tr>\n",
       "    <tr>\n",
       "      <th>4</th>\n",
       "      <td>1523115</td>\n",
       "      <td>2023-03-01 00:09:03</td>\n",
       "      <td>2023-03-01 00:25:13.619056</td>\n",
       "      <td>1</td>\n",
       "      <td>Wednesday</td>\n",
       "    </tr>\n",
       "    <tr>\n",
       "      <th>...</th>\n",
       "      <td>...</td>\n",
       "      <td>...</td>\n",
       "      <td>...</td>\n",
       "      <td>...</td>\n",
       "      <td>...</td>\n",
       "    </tr>\n",
       "    <tr>\n",
       "      <th>14995</th>\n",
       "      <td>1538106</td>\n",
       "      <td>2023-03-27 23:37:05</td>\n",
       "      <td>2023-03-27 23:52:37.409378</td>\n",
       "      <td>27</td>\n",
       "      <td>Monday</td>\n",
       "    </tr>\n",
       "    <tr>\n",
       "      <th>14996</th>\n",
       "      <td>1538107</td>\n",
       "      <td>2023-03-27 23:47:38</td>\n",
       "      <td>2023-03-28 00:04:22.672912</td>\n",
       "      <td>27</td>\n",
       "      <td>Monday</td>\n",
       "    </tr>\n",
       "    <tr>\n",
       "      <th>14997</th>\n",
       "      <td>1538108</td>\n",
       "      <td>2023-03-27 23:50:16</td>\n",
       "      <td>2023-03-28 00:05:40.676238</td>\n",
       "      <td>27</td>\n",
       "      <td>Monday</td>\n",
       "    </tr>\n",
       "    <tr>\n",
       "      <th>14998</th>\n",
       "      <td>1538109</td>\n",
       "      <td>2023-03-27 23:52:44</td>\n",
       "      <td>2023-03-28 00:08:41.810358</td>\n",
       "      <td>27</td>\n",
       "      <td>Monday</td>\n",
       "    </tr>\n",
       "    <tr>\n",
       "      <th>14999</th>\n",
       "      <td>1538110</td>\n",
       "      <td>2023-03-27 23:58:20</td>\n",
       "      <td>2023-03-28 00:13:42.499311</td>\n",
       "      <td>27</td>\n",
       "      <td>Monday</td>\n",
       "    </tr>\n",
       "  </tbody>\n",
       "</table>\n",
       "<p>15000 rows × 5 columns</p>\n",
       "</div>"
      ],
      "text/plain": [
       "       order_id     order_placed_at         order_delivered_at  day_of_month  \\\n",
       "0       1523111 2023-03-01 00:00:59 2023-03-01 00:18:07.443132             1   \n",
       "1       1523112 2023-03-01 00:03:59 2023-03-01 00:19:34.925241             1   \n",
       "2       1523113 2023-03-01 00:07:22 2023-03-01 00:22:28.291385             1   \n",
       "3       1523114 2023-03-01 00:07:47 2023-03-01 00:46:19.019399             1   \n",
       "4       1523115 2023-03-01 00:09:03 2023-03-01 00:25:13.619056             1   \n",
       "...         ...                 ...                        ...           ...   \n",
       "14995   1538106 2023-03-27 23:37:05 2023-03-27 23:52:37.409378            27   \n",
       "14996   1538107 2023-03-27 23:47:38 2023-03-28 00:04:22.672912            27   \n",
       "14997   1538108 2023-03-27 23:50:16 2023-03-28 00:05:40.676238            27   \n",
       "14998   1538109 2023-03-27 23:52:44 2023-03-28 00:08:41.810358            27   \n",
       "14999   1538110 2023-03-27 23:58:20 2023-03-28 00:13:42.499311            27   \n",
       "\n",
       "      day_of_week  \n",
       "0       Wednesday  \n",
       "1       Wednesday  \n",
       "2       Wednesday  \n",
       "3       Wednesday  \n",
       "4       Wednesday  \n",
       "...           ...  \n",
       "14995      Monday  \n",
       "14996      Monday  \n",
       "14997      Monday  \n",
       "14998      Monday  \n",
       "14999      Monday  \n",
       "\n",
       "[15000 rows x 5 columns]"
      ]
     },
     "execution_count": 29,
     "metadata": {},
     "output_type": "execute_result"
    }
   ],
   "source": [
    "df"
   ]
  },
  {
   "cell_type": "code",
   "execution_count": 39,
   "id": "3edbc8bf",
   "metadata": {},
   "outputs": [],
   "source": [
    "# total time in minute\n",
    "df[\"delivary_time\"] = (df.order_delivered_at - df.order_placed_at).dt.total_seconds()/60"
   ]
  },
  {
   "cell_type": "code",
   "execution_count": 40,
   "id": "f4af60e5",
   "metadata": {},
   "outputs": [
    {
     "data": {
      "text/html": [
       "<div>\n",
       "<style scoped>\n",
       "    .dataframe tbody tr th:only-of-type {\n",
       "        vertical-align: middle;\n",
       "    }\n",
       "\n",
       "    .dataframe tbody tr th {\n",
       "        vertical-align: top;\n",
       "    }\n",
       "\n",
       "    .dataframe thead th {\n",
       "        text-align: right;\n",
       "    }\n",
       "</style>\n",
       "<table border=\"1\" class=\"dataframe\">\n",
       "  <thead>\n",
       "    <tr style=\"text-align: right;\">\n",
       "      <th></th>\n",
       "      <th>order_id</th>\n",
       "      <th>order_placed_at</th>\n",
       "      <th>order_delivered_at</th>\n",
       "      <th>day_of_month</th>\n",
       "      <th>day_of_week</th>\n",
       "      <th>delivary_time</th>\n",
       "    </tr>\n",
       "  </thead>\n",
       "  <tbody>\n",
       "    <tr>\n",
       "      <th>0</th>\n",
       "      <td>1523111</td>\n",
       "      <td>2023-03-01 00:00:59</td>\n",
       "      <td>2023-03-01 00:18:07.443132</td>\n",
       "      <td>1</td>\n",
       "      <td>Wednesday</td>\n",
       "      <td>17.140719</td>\n",
       "    </tr>\n",
       "    <tr>\n",
       "      <th>1</th>\n",
       "      <td>1523112</td>\n",
       "      <td>2023-03-01 00:03:59</td>\n",
       "      <td>2023-03-01 00:19:34.925241</td>\n",
       "      <td>1</td>\n",
       "      <td>Wednesday</td>\n",
       "      <td>15.598754</td>\n",
       "    </tr>\n",
       "    <tr>\n",
       "      <th>2</th>\n",
       "      <td>1523113</td>\n",
       "      <td>2023-03-01 00:07:22</td>\n",
       "      <td>2023-03-01 00:22:28.291385</td>\n",
       "      <td>1</td>\n",
       "      <td>Wednesday</td>\n",
       "      <td>15.104856</td>\n",
       "    </tr>\n",
       "    <tr>\n",
       "      <th>3</th>\n",
       "      <td>1523114</td>\n",
       "      <td>2023-03-01 00:07:47</td>\n",
       "      <td>2023-03-01 00:46:19.019399</td>\n",
       "      <td>1</td>\n",
       "      <td>Wednesday</td>\n",
       "      <td>38.533657</td>\n",
       "    </tr>\n",
       "    <tr>\n",
       "      <th>4</th>\n",
       "      <td>1523115</td>\n",
       "      <td>2023-03-01 00:09:03</td>\n",
       "      <td>2023-03-01 00:25:13.619056</td>\n",
       "      <td>1</td>\n",
       "      <td>Wednesday</td>\n",
       "      <td>16.176984</td>\n",
       "    </tr>\n",
       "    <tr>\n",
       "      <th>...</th>\n",
       "      <td>...</td>\n",
       "      <td>...</td>\n",
       "      <td>...</td>\n",
       "      <td>...</td>\n",
       "      <td>...</td>\n",
       "      <td>...</td>\n",
       "    </tr>\n",
       "    <tr>\n",
       "      <th>14995</th>\n",
       "      <td>1538106</td>\n",
       "      <td>2023-03-27 23:37:05</td>\n",
       "      <td>2023-03-27 23:52:37.409378</td>\n",
       "      <td>27</td>\n",
       "      <td>Monday</td>\n",
       "      <td>15.540156</td>\n",
       "    </tr>\n",
       "    <tr>\n",
       "      <th>14996</th>\n",
       "      <td>1538107</td>\n",
       "      <td>2023-03-27 23:47:38</td>\n",
       "      <td>2023-03-28 00:04:22.672912</td>\n",
       "      <td>27</td>\n",
       "      <td>Monday</td>\n",
       "      <td>16.744549</td>\n",
       "    </tr>\n",
       "    <tr>\n",
       "      <th>14997</th>\n",
       "      <td>1538108</td>\n",
       "      <td>2023-03-27 23:50:16</td>\n",
       "      <td>2023-03-28 00:05:40.676238</td>\n",
       "      <td>27</td>\n",
       "      <td>Monday</td>\n",
       "      <td>15.411271</td>\n",
       "    </tr>\n",
       "    <tr>\n",
       "      <th>14998</th>\n",
       "      <td>1538109</td>\n",
       "      <td>2023-03-27 23:52:44</td>\n",
       "      <td>2023-03-28 00:08:41.810358</td>\n",
       "      <td>27</td>\n",
       "      <td>Monday</td>\n",
       "      <td>15.963506</td>\n",
       "    </tr>\n",
       "    <tr>\n",
       "      <th>14999</th>\n",
       "      <td>1538110</td>\n",
       "      <td>2023-03-27 23:58:20</td>\n",
       "      <td>2023-03-28 00:13:42.499311</td>\n",
       "      <td>27</td>\n",
       "      <td>Monday</td>\n",
       "      <td>15.374989</td>\n",
       "    </tr>\n",
       "  </tbody>\n",
       "</table>\n",
       "<p>15000 rows × 6 columns</p>\n",
       "</div>"
      ],
      "text/plain": [
       "       order_id     order_placed_at         order_delivered_at  day_of_month  \\\n",
       "0       1523111 2023-03-01 00:00:59 2023-03-01 00:18:07.443132             1   \n",
       "1       1523112 2023-03-01 00:03:59 2023-03-01 00:19:34.925241             1   \n",
       "2       1523113 2023-03-01 00:07:22 2023-03-01 00:22:28.291385             1   \n",
       "3       1523114 2023-03-01 00:07:47 2023-03-01 00:46:19.019399             1   \n",
       "4       1523115 2023-03-01 00:09:03 2023-03-01 00:25:13.619056             1   \n",
       "...         ...                 ...                        ...           ...   \n",
       "14995   1538106 2023-03-27 23:37:05 2023-03-27 23:52:37.409378            27   \n",
       "14996   1538107 2023-03-27 23:47:38 2023-03-28 00:04:22.672912            27   \n",
       "14997   1538108 2023-03-27 23:50:16 2023-03-28 00:05:40.676238            27   \n",
       "14998   1538109 2023-03-27 23:52:44 2023-03-28 00:08:41.810358            27   \n",
       "14999   1538110 2023-03-27 23:58:20 2023-03-28 00:13:42.499311            27   \n",
       "\n",
       "      day_of_week  delivary_time  \n",
       "0       Wednesday      17.140719  \n",
       "1       Wednesday      15.598754  \n",
       "2       Wednesday      15.104856  \n",
       "3       Wednesday      38.533657  \n",
       "4       Wednesday      16.176984  \n",
       "...           ...            ...  \n",
       "14995      Monday      15.540156  \n",
       "14996      Monday      16.744549  \n",
       "14997      Monday      15.411271  \n",
       "14998      Monday      15.963506  \n",
       "14999      Monday      15.374989  \n",
       "\n",
       "[15000 rows x 6 columns]"
      ]
     },
     "execution_count": 40,
     "metadata": {},
     "output_type": "execute_result"
    }
   ],
   "source": [
    "df"
   ]
  },
  {
   "cell_type": "code",
   "execution_count": 52,
   "id": "ab3bfcf2",
   "metadata": {},
   "outputs": [
    {
     "data": {
      "text/plain": [
       "1     550\n",
       "2     588\n",
       "3     534\n",
       "4     567\n",
       "5     551\n",
       "6     582\n",
       "7     570\n",
       "8     578\n",
       "9     564\n",
       "10    587\n",
       "11    536\n",
       "12    582\n",
       "13    526\n",
       "14    492\n",
       "15    540\n",
       "16    545\n",
       "17    537\n",
       "18    559\n",
       "19    526\n",
       "20    597\n",
       "21    520\n",
       "22    591\n",
       "23    583\n",
       "24    565\n",
       "25    547\n",
       "26    532\n",
       "27    551\n",
       "Name: day_of_month, dtype: int64"
      ]
     },
     "execution_count": 52,
     "metadata": {},
     "output_type": "execute_result"
    }
   ],
   "source": [
    "# visualize the frequency of order through out the march month\n",
    "fr = df.day_of_month.value_counts().sort_index()\n",
    "fr"
   ]
  },
  {
   "cell_type": "code",
   "execution_count": 61,
   "id": "fb9ae5ec",
   "metadata": {},
   "outputs": [
    {
     "data": {
      "text/plain": [
       "<AxesSubplot:>"
      ]
     },
     "execution_count": 61,
     "metadata": {},
     "output_type": "execute_result"
    },
    {
     "data": {
      "image/png": "[encoded data removed]",
      "text/plain": [
       "<Figure size 576x576 with 1 Axes>"
      ]
     },
     "metadata": {
      "needs_background": "light"
     },
     "output_type": "display_data"
    }
   ],
   "source": [
    "# line plot of the frequency of order\n",
    "import seaborn as sns\n",
    "import matplotlib.pyplot as plt\n",
    "plt.figure(figsize=(8, 8))\n",
    "sns.lineplot(data = fr, x=fr.index, y = fr.values, color=\"red\")"
   ]
  },
  {
   "cell_type": "code",
   "execution_count": 71,
   "id": "bd5a5c93",
   "metadata": {},
   "outputs": [
    {
     "data": {
      "text/plain": [
       "<AxesSubplot:>"
      ]
     },
     "execution_count": 71,
     "metadata": {},
     "output_type": "execute_result"
    },
    {
     "data": {
      "image/png": "[encoded data removed]",
      "text/plain": [
       "<Figure size 864x648 with 1 Axes>"
      ]
     },
     "metadata": {
      "needs_background": "light"
     },
     "output_type": "display_data"
    }
   ],
   "source": [
    "# bar plot of the frequency of order\n",
    "plt.figure(figsize=(12, 9))\n",
    "sns.barplot(x=fr.index, y=fr.values, palette='hls')"
   ]
  },
  {
   "cell_type": "code",
   "execution_count": 78,
   "id": "4c9779aa",
   "metadata": {},
   "outputs": [
    {
     "data": {
      "text/plain": [
       "Thursday     2280\n",
       "Wednesday    2259\n",
       "Monday       2256\n",
       "Friday       2223\n",
       "Saturday     2209\n",
       "Sunday       2191\n",
       "Tuesday      1582\n",
       "Name: day_of_week, dtype: int64"
      ]
     },
     "execution_count": 78,
     "metadata": {},
     "output_type": "execute_result"
    }
   ],
   "source": [
    "week = df.day_of_week.value_counts()\n",
    "week"
   ]
  },
  {
   "cell_type": "code",
   "execution_count": 81,
   "id": "8a31d773",
   "metadata": {},
   "outputs": [
    {
     "data": {
      "text/plain": [
       "<AxesSubplot:>"
      ]
     },
     "execution_count": 81,
     "metadata": {},
     "output_type": "execute_result"
    },
    {
     "data": {
      "image/png": "[encoded data removed]",
      "text/plain": [
       "<Figure size 864x648 with 1 Axes>"
      ]
     },
     "metadata": {
      "needs_background": "light"
     },
     "output_type": "display_data"
    }
   ],
   "source": [
    "plt.figure(figsize=(12, 9))\n",
    "sns.scatterplot(x=week.index, y=week.values)"
   ]
  },
  {
   "cell_type": "code",
   "execution_count": 82,
   "id": "fb61d132",
   "metadata": {},
   "outputs": [
    {
     "name": "stdout",
     "output_type": "stream",
     "text": [
      "331\n"
     ]
    }
   ],
   "source": [
    "c=0\n",
    "for i in df.delivary_time:\n",
    "    if i > 40.0:\n",
    "        c = c+1\n",
    "        \n",
    "print(c)"
   ]
  },
  {
   "cell_type": "code",
   "execution_count": 84,
   "id": "03476755",
   "metadata": {},
   "outputs": [
    {
     "data": {
      "text/plain": [
       "Index(['order_id', 'order_placed_at', 'order_delivered_at', 'day_of_month',\n",
       "       'day_of_week', 'delivary_time'],\n",
       "      dtype='object')"
      ]
     },
     "execution_count": 84,
     "metadata": {},
     "output_type": "execute_result"
    }
   ],
   "source": [
    "df.columns"
   ]
  },
  {
   "cell_type": "code",
   "execution_count": 86,
   "id": "995617ac",
   "metadata": {},
   "outputs": [
    {
     "data": {
      "text/plain": [
       "day_of_month\n",
       "1     19.654617\n",
       "2     18.984281\n",
       "3     19.522054\n",
       "4     19.998816\n",
       "5     19.690572\n",
       "6     18.616885\n",
       "7     18.732610\n",
       "8     28.056317\n",
       "9     17.646582\n",
       "10    32.341166\n",
       "11    18.703070\n",
       "12    19.166320\n",
       "13    19.350507\n",
       "14    19.825649\n",
       "15    18.223202\n",
       "16    19.310278\n",
       "17    17.768794\n",
       "18    17.775899\n",
       "19    32.734740\n",
       "20    20.592780\n",
       "21    19.293540\n",
       "22    20.623125\n",
       "23    18.024689\n",
       "24    18.001157\n",
       "25    18.289338\n",
       "26    24.903235\n",
       "27    17.455159\n",
       "Name: delivary_time, dtype: float64"
      ]
     },
     "execution_count": 86,
     "metadata": {},
     "output_type": "execute_result"
    }
   ],
   "source": [
    "df.groupby(\"day_of_month\")[\"delivary_time\"].mean()"
   ]
  },
  {
   "cell_type": "markdown",
   "id": "6ee27b29",
   "metadata": {},
   "source": [
    "- we can see on 10th and 19th Match the avarage delivary time of products are greater than 32 minutes which is very big in number."
   ]
  },
  {
   "cell_type": "code",
   "execution_count": 87,
   "id": "e84a2db1",
   "metadata": {},
   "outputs": [],
   "source": [
    "# we can take a thresold time as 40 minutes and make the \n",
    "# delivary time more than 40 minutes to strict 40.\n",
    "\n",
    "def tranform(x):\n",
    "    if x>40:\n",
    "        return 40\n",
    "    else:\n",
    "        return x\n",
    "\n",
    "    \n",
    "df.delivary_time = df.delivary_time.apply(tranform)    "
   ]
  },
  {
   "cell_type": "code",
   "execution_count": 88,
   "id": "b32ca655",
   "metadata": {},
   "outputs": [
    {
     "name": "stdout",
     "output_type": "stream",
     "text": [
      "0\n"
     ]
    }
   ],
   "source": [
    "# the result\n",
    "c=0\n",
    "for i in df.delivary_time:\n",
    "    if i > 40.0:\n",
    "        c = c+1\n",
    "        \n",
    "print(c)"
   ]
  },
  {
   "cell_type": "code",
   "execution_count": 89,
   "id": "795d7777",
   "metadata": {},
   "outputs": [
    {
     "data": {
      "text/plain": [
       "17.50021796338111"
      ]
     },
     "execution_count": 89,
     "metadata": {},
     "output_type": "execute_result"
    }
   ],
   "source": [
    "# to find the mean delivary time\n",
    "df.delivary_time.mean()"
   ]
  },
  {
   "cell_type": "code",
   "execution_count": 90,
   "id": "261da0ad",
   "metadata": {},
   "outputs": [
    {
     "data": {
      "text/plain": [
       "15.797986066666668"
      ]
     },
     "execution_count": 90,
     "metadata": {},
     "output_type": "execute_result"
    }
   ],
   "source": [
    "# to find the median\n",
    "df.delivary_time.median()"
   ]
  },
  {
   "cell_type": "code",
   "execution_count": 91,
   "id": "089a9639",
   "metadata": {},
   "outputs": [
    {
     "data": {
      "text/plain": [
       "15.274825995833334"
      ]
     },
     "execution_count": 91,
     "metadata": {},
     "output_type": "execute_result"
    }
   ],
   "source": [
    "# to find the top 25%\n",
    "df.delivary_time.quantile(0.25)"
   ]
  },
  {
   "cell_type": "code",
   "execution_count": 92,
   "id": "1691c332",
   "metadata": {},
   "outputs": [
    {
     "data": {
      "text/plain": [
       "17.27966090416667"
      ]
     },
     "execution_count": 92,
     "metadata": {},
     "output_type": "execute_result"
    }
   ],
   "source": [
    "# to find the top 75%\n",
    "df.delivary_time.quantile(0.75)"
   ]
  },
  {
   "cell_type": "markdown",
   "id": "8eaee844",
   "metadata": {},
   "source": [
    "#### The ultiate aim is to be the 95 % time will be in between 31 minutes"
   ]
  },
  {
   "cell_type": "code",
   "execution_count": 93,
   "id": "6a4f1ecc",
   "metadata": {},
   "outputs": [
    {
     "data": {
      "text/plain": [
       "27.261043996666658"
      ]
     },
     "execution_count": 93,
     "metadata": {},
     "output_type": "execute_result"
    }
   ],
   "source": [
    "# to find the top 95%\n",
    "df.delivary_time.quantile(0.95)"
   ]
  },
  {
   "cell_type": "code",
   "execution_count": 94,
   "id": "ff6150ed",
   "metadata": {},
   "outputs": [],
   "source": [
    "df[\"ordered_time\"] = df.order_placed_at.dt.time"
   ]
  },
  {
   "cell_type": "code",
   "execution_count": 105,
   "id": "62efb989",
   "metadata": {},
   "outputs": [],
   "source": [
    "df.ordered_time = df.ordered_time.astype(\"str\")"
   ]
  },
  {
   "cell_type": "code",
   "execution_count": 106,
   "id": "1d86acd2",
   "metadata": {},
   "outputs": [],
   "source": [
    "df[\"hour\"] = df.ordered_time.str[:].str[:2]"
   ]
  },
  {
   "cell_type": "code",
   "execution_count": null,
   "id": "e2da2c85",
   "metadata": {},
   "outputs": [],
   "source": [
    "+96+"
   ]
  },
  {
   "cell_type": "code",
   "execution_count": 107,
   "id": "cb06f9f8",
   "metadata": {},
   "outputs": [],
   "source": [
    "# 06:00:00 to 12:00:00 - morning\n",
    "# 12:00:00 to 16:00:00 - afternoon\n",
    "# 16:00:00 to 20:00:00 - evening\n",
    "# 20:00:00 to 00:00:00 - night\n",
    "# 00:00:00 to 06:00:00 - mid-night\n",
    "def food(x):\n",
    "    if x >= '00' and x<'06':\n",
    "        return \"mid-night\"\n",
    "    \n",
    "    elif x >= '06' and x<'12':\n",
    "        return \"morning\"\n",
    "    elif x >= '12' and x<'16':\n",
    "        return \"afternoon\"\n",
    "    elif x >= '16' and x<'20':\n",
    "        return \"evening\"\n",
    "    elif x >= '20' and x<='23':\n",
    "        return \"night\"\n",
    "    \n",
    "df[\"mood\"] = df.hour.apply(food)"
   ]
  },
  {
   "cell_type": "code",
   "execution_count": 108,
   "id": "d93dfa51",
   "metadata": {},
   "outputs": [
    {
     "data": {
      "text/plain": [
       "0        mid-night\n",
       "1        mid-night\n",
       "2        mid-night\n",
       "3        mid-night\n",
       "4        mid-night\n",
       "           ...    \n",
       "14995        night\n",
       "14996        night\n",
       "14997        night\n",
       "14998        night\n",
       "14999        night\n",
       "Name: mood, Length: 15000, dtype: object"
      ]
     },
     "execution_count": 108,
     "metadata": {},
     "output_type": "execute_result"
    }
   ],
   "source": [
    "df.mood"
   ]
  },
  {
   "cell_type": "code",
   "execution_count": 111,
   "id": "5cd4d614",
   "metadata": {},
   "outputs": [
    {
     "data": {
      "text/plain": [
       "mid-night    3744\n",
       "morning      3736\n",
       "night        2554\n",
       "evening      2486\n",
       "afternoon    2480\n",
       "Name: mood, dtype: int64"
      ]
     },
     "execution_count": 111,
     "metadata": {},
     "output_type": "execute_result"
    }
   ],
   "source": [
    "rg = df.mood.value_counts()\n",
    "rg"
   ]
  },
  {
   "cell_type": "code",
   "execution_count": 112,
   "id": "949d6b62",
   "metadata": {},
   "outputs": [
    {
     "data": {
      "text/plain": [
       "<AxesSubplot:>"
      ]
     },
     "execution_count": 112,
     "metadata": {},
     "output_type": "execute_result"
    },
    {
     "data": {
      "image/png": "[encoded data removed]",
      "text/plain": [
       "<Figure size 864x648 with 1 Axes>"
      ]
     },
     "metadata": {
      "needs_background": "light"
     },
     "output_type": "display_data"
    }
   ],
   "source": [
    "# delivary time barplot\n",
    "plt.figure(figsize=(12, 9))\n",
    "sns.barplot(x=rg.index, y=rg.values, palette='turbo')"
   ]
  },
  {
   "cell_type": "markdown",
   "id": "0caeb032",
   "metadata": {},
   "source": [
    "## Thanks for Visiting"
   ]
  }
 ],
 "metadata": {
  "kernelspec": {
   "display_name": "Python 3 (ipykernel)",
   "language": "python",
   "name": "python3"
  },
  "language_info": {
   "codemirror_mode": {
    "name": "ipython",
    "version": 3
   },
   "file_extension": ".py",
   "mimetype": "text/x-python",
   "name": "python",
   "nbconvert_exporter": "python",
   "pygments_lexer": "ipython3",
   "version": "3.9.7"
  }
 },
 "nbformat": 4,
 "nbformat_minor": 5
}
